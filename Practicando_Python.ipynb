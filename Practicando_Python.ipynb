{
  "nbformat": 4,
  "nbformat_minor": 0,
  "metadata": {
    "colab": {
      "provenance": [],
      "authorship_tag": "ABX9TyMpMArNIW+N4u+A317fBX/E",
      "include_colab_link": true
    },
    "kernelspec": {
      "name": "python3",
      "display_name": "Python 3"
    },
    "language_info": {
      "name": "python"
    }
  },
  "cells": [
    {
      "cell_type": "markdown",
      "metadata": {
        "id": "view-in-github",
        "colab_type": "text"
      },
      "source": [
        "<a href=\"https://colab.research.google.com/github/Jhon-theone/python/blob/main/Practicando_Python.ipynb\" target=\"_parent\"><img src=\"https://colab.research.google.com/assets/colab-badge.svg\" alt=\"Open In Colab\"/></a>"
      ]
    },
    {
      "cell_type": "markdown",
      "source": [
        "#EJERCICIOS"
      ],
      "metadata": {
        "id": "Wkqa37sN2P2A"
      }
    },
    {
      "cell_type": "markdown",
      "source": [
        "**1**.Bruno gestiona un pequeño comercio y quiere saber qué producto tuvo el mejor desempeño de ventas el mes pasado. Registró la cantidad vendida de dos productos: manzanas y plátanos. Ahora, necesita escribir un programa que identifique y muestre cuál de ellos tuvo más ventas.\n",
        "\n",
        "Crea un programa que reciba el número de ventas de los dos productos y muestre un mensaje indicando cuál de ellos vendió más. Si las cantidades son iguales, muestra un mensaje diciendo que hubo un empate."
      ],
      "metadata": {
        "id": "NcFXVQvb6OLx"
      }
    },
    {
      "cell_type": "code",
      "execution_count": 5,
      "metadata": {
        "colab": {
          "base_uri": "https://localhost:8080/"
        },
        "id": "TqJgl5Xv2ABy",
        "outputId": "d2b039d0-3bd7-46fe-dec5-6c4bf2ba0910"
      },
      "outputs": [
        {
          "output_type": "stream",
          "name": "stdout",
          "text": [
            "Digite la cantidad de manzanas vendidas: 4\n",
            "Digite la cantidad de plátanos vendidos: 9\n",
            "Los plátanos tuvieron más ventas.\n"
          ]
        }
      ],
      "source": [
        "manzanas = int(input('Digite la cantidad de manzanas vendidas: '))\n",
        "platanos = int(input('Digite la cantidad de plátanos vendidos: '))\n",
        "if manzanas < platanos:\n",
        "  print('Los plátanos tuvieron más ventas.')\n",
        "elif manzanas > platanos:\n",
        "  print('Las manzanas tuvieron más ventas.')\n",
        "else:\n",
        "  print('Las ventas fueron iguales.')"
      ]
    },
    {
      "cell_type": "markdown",
      "source": [
        "**2**.Lucas trabaja en TI y necesita garantizar que la temperatura de una sala de servidores no supere los 25°C. Quiere un programa que reciba la temperatura actual como entrada y, si es necesario, muestre un mensaje de alerta."
      ],
      "metadata": {
        "id": "gr_C9cuG6o3b"
      }
    },
    {
      "cell_type": "code",
      "source": [
        "temperatura = float(input('Digite la temperatura: '))\n",
        "limite_temp = 25\n",
        "if temperatura > limite_temp:\n",
        "  print('¡Alerta! Temperatura encima del límite permitido.')\n"
      ],
      "metadata": {
        "colab": {
          "base_uri": "https://localhost:8080/"
        },
        "id": "Cm5AGXM44SBF",
        "outputId": "37cbf3b6-60f4-42b3-8af4-7ecf54d1d2d2"
      },
      "execution_count": 6,
      "outputs": [
        {
          "output_type": "stream",
          "name": "stdout",
          "text": [
            "Digite la temperatura: 30\n",
            "¡Alerta! Temperatura encima del límite permitido.\n"
          ]
        }
      ]
    },
    {
      "cell_type": "markdown",
      "source": [
        "**3**.Camila está organizando un proyecto y necesita calcular el tiempo total necesario para concluir tres actividades: A, B y C. Sin embargo, si alguna actividad tiene un número de días negativo, el código debe avisar que los valores ingresados son inválidos y no calcular el total.\n",
        "\n",
        "Escribe un programa que reciba el número de días de tres actividades y muestre el tiempo total del proyecto. Si algún valor es negativo, muestra un mensaje informando el error."
      ],
      "metadata": {
        "id": "bjds_0yZ6wIJ"
      }
    },
    {
      "cell_type": "code",
      "source": [
        "actividad_A = int(input('Informe los días de la actividad A: '))\n",
        "actividad_B = int(input('Informe los días de la actividad B: '))\n",
        "actividad_C = int(input('Informe los días de la actividad C: '))\n",
        "if actividad_A < 0 or actividad_B < 0 or actividad_C < 0:\n",
        "  print('¡Error! Los días no pueden ser negativos')\n",
        "else:\n",
        "  print(f'Días para concluir las actividades A, B y C: {actividad_A+actividad_B+actividad_C} días.')"
      ],
      "metadata": {
        "colab": {
          "base_uri": "https://localhost:8080/"
        },
        "id": "TVk_jP5e6Ib9",
        "outputId": "060d7128-d9be-4f03-eb05-c4b23e97dc13"
      },
      "execution_count": 9,
      "outputs": [
        {
          "output_type": "stream",
          "name": "stdout",
          "text": [
            "Informe los días de la actividad A: 3\n",
            "Informe los días de la actividad B: 4\n",
            "Informe los días de la actividad C: -2\n",
            "¡Error! Los días no pueden ser negativos\n"
          ]
        }
      ]
    },
    {
      "cell_type": "markdown",
      "source": [
        "**4**.Anna Júlia está creando un sistema para calcular el Índice de Masa Corporal (IMC) y proporcionar recomendaciones básicas. El programa debe recibir el peso y la altura de una persona y mostrar el valor del IMC, además de indicar si está por debajo del peso, con peso normal o por encima del peso. Crea un programa que reciba el peso (en kg) y la altura (en metros) y calcule el IMC usando la fórmula: IMC = peso / (altura ** 2)Luego, muestra el valor del IMC y un mensaje indicando si está por debajo del peso (IMC < 18.5), peso normal (18.5 <= IMC < 25) o por encima del peso (IMC >= 25)."
      ],
      "metadata": {
        "id": "8d-wcmgCEoEc"
      }
    },
    {
      "cell_type": "code",
      "source": [
        "peso = float(input('Digite su peso (kg): '))\n",
        "altura = float(input('Digite su altura (m): '))\n",
        "IMC = peso / (altura ** 2)\n",
        "print(f\"Su IMC es: {IMC:.2f}\")\n",
        "if IMC < 18.5:\n",
        "  print('Estas por debajo del peso.')\n",
        "elif IMC > 18.5 and IMC <=25:\n",
        "  print('Tienes un peso normal.')\n",
        "elif IMC >= 25:\n",
        "  print('Estas por encima del peso.')"
      ],
      "metadata": {
        "colab": {
          "base_uri": "https://localhost:8080/"
        },
        "id": "7GiQrbn98qKv",
        "outputId": "04206ecd-f884-4d08-a52c-21c210e112d8"
      },
      "execution_count": 16,
      "outputs": [
        {
          "output_type": "stream",
          "name": "stdout",
          "text": [
            "Digite su peso (kg): 65\n",
            "Digite su altura (m): 1.65\n",
            "Su IMC es: 23.88\n",
            "Tienes un peso normal.\n"
          ]
        }
      ]
    },
    {
      "cell_type": "markdown",
      "source": [
        "**5**.Laura está desarrollando un sistema para saber si una persona tiene derecho a recibir un beneficio social. Para eso, la persona debe cumplir las siguientes condiciones:\n",
        "\n",
        "- Tener ingresos menores o iguales a $2,000.\n",
        "- Tener al menos un hijo o hija.\n",
        "\n",
        "Crea un programa que reciba los ingresos mensuales y la cantidad de hijos de una persona, y diga si tiene derecho al beneficio."
      ],
      "metadata": {
        "id": "OkMNgSOGK-AT"
      }
    },
    {
      "cell_type": "code",
      "source": [
        "ingreso_mensual = float(input('Digite su ingreso mensual: '))\n",
        "cantidad_hijos = int(input('Digite la cantidad de hijos/as: '))\n",
        "if ingreso_mensual <= 2000 and cantidad_hijos >= 1:\n",
        "  print('Tienes derecho al beneficio.')\n",
        "else:\n",
        "  print('No cumples con los requisitos.')"
      ],
      "metadata": {
        "colab": {
          "base_uri": "https://localhost:8080/"
        },
        "id": "jqdJWhQ2J93X",
        "outputId": "08d00479-565f-4088-b494-dde9db5861e9"
      },
      "execution_count": 20,
      "outputs": [
        {
          "output_type": "stream",
          "name": "stdout",
          "text": [
            "Digite su ingreso mensual: 1900\n",
            "Digite la cantidad de hijos/as: 4\n",
            "Tienes derecho al beneficio.\n"
          ]
        }
      ]
    },
    {
      "cell_type": "markdown",
      "source": [
        "**6**.Una empresa evalúa a sus empleados con base en dos criterios:\n",
        "\n",
        "- Puntuación de desempeño (de 0 a 10)\n",
        "- Años trabajados\n",
        "\n",
        "Reglas:\n",
        "\n",
        "Si la puntuación es mayor o igual a 7:\n",
        "- Si trabajó más de 5 años: \"Elegible para ascenso\"\n",
        "- Si trabajó 5 años o menos: \"Buen desempeño, sigue así\"\n",
        "\n",
        "Si la puntuación es menor a 7:\n",
        "- \"Necesita mejorar\"\n",
        "\n",
        "Crea un programa que reciba la puntuación y los años trabajados, y muestre el mensaje adecuado."
      ],
      "metadata": {
        "id": "cNRFxBA5Mi-8"
      }
    },
    {
      "cell_type": "code",
      "source": [
        "puntuacion = int(input('Digita la puntuación de 0 a 10: '))\n",
        "años = int(input('Digita los años trabajados: '))\n",
        "if puntuacion >= 7:\n",
        "  if años > 5:\n",
        "    print('\"Elegible para ascenso\"')\n",
        "  else:\n",
        "    print('\"Buen desempeño, sigue así\"')\n",
        "else:\n",
        "  print('\"Necesita mejorar\"')"
      ],
      "metadata": {
        "colab": {
          "base_uri": "https://localhost:8080/"
        },
        "id": "yesvWbYaMV3E",
        "outputId": "f0a7b60d-a85c-4f93-e64a-ce44a74ca4b0"
      },
      "execution_count": 22,
      "outputs": [
        {
          "output_type": "stream",
          "name": "stdout",
          "text": [
            "Digita la puntuación de 0 a 10: 6\n",
            "Digita los años trabajados: 5\n",
            "\"Necesita mejorar\"\n"
          ]
        }
      ]
    },
    {
      "cell_type": "markdown",
      "source": [
        "**7**.Estás desarrollando un pequeño juego. El usuario ingresa un número entero y el programa debe evaluar lo siguiente:\n",
        "\n",
        "- Si el número es divisible por 3 y 5, muestra: \"¡Número mágico!\"\n",
        "- Si solo es divisible por 3, muestra: \"Divisible por 3\"\n",
        "- Si solo es divisible por 5, muestra: \"Divisible por 5\"\n",
        "- Si no es divisible por ninguno, muestra: \"No es un número mágico\"\n",
        "\n",
        "Este tipo de lógica es muy útil en juegos, validaciones o filtros."
      ],
      "metadata": {
        "id": "ZO6yiB1xP8qz"
      }
    },
    {
      "cell_type": "code",
      "source": [
        "numero = int(input('Digite un número entero: '))\n",
        "if numero % 3 == 0 and numero % 5 == 0:\n",
        "  print('\"¡Número mágico!\"')\n",
        "elif numero % 3 == 0:\n",
        "  print('\"Divisible por 3\"')\n",
        "elif numero % 5 == 0:\n",
        "  print('\"Divisible por 5\"')\n",
        "else:\n",
        "  print('\"No es un número mágico\"')"
      ],
      "metadata": {
        "colab": {
          "base_uri": "https://localhost:8080/"
        },
        "id": "ot3jr_JoP3-M",
        "outputId": "51980d85-8406-4176-b811-c3db94ebf67d"
      },
      "execution_count": 26,
      "outputs": [
        {
          "output_type": "stream",
          "name": "stdout",
          "text": [
            "Digite un número entero: 35\n",
            "\"Divisible por 5\"\n"
          ]
        }
      ]
    },
    {
      "cell_type": "markdown",
      "source": [
        "**8**.Una escuela otorga becas según tres criterios:\n",
        "\n",
        "- Ingreso familiar mensual.\n",
        "- Promedio del estudiante.\n",
        "- Asistencia (en porcentaje).\n",
        "\n",
        "Reglas:\n",
        "\n",
        "- Si el ingreso es menor a 1,500 y el promedio es mayor a 8.0 y la asistencia es al menos 90% → \"Beca completa\".\n",
        "- Si el ingreso es menor a 2,500 y promedio mayor a 7.0 y asistencia al menos 85% → \"Media beca\".\n",
        "- En otros casos → \"No elegible para beca\""
      ],
      "metadata": {
        "id": "7dxPR4AoR_ER"
      }
    },
    {
      "cell_type": "code",
      "source": [
        "ingreso_men_fam = float(input('Digite su ingreso familiar mensual: '))\n",
        "promedio_est = float(input('Digite su promedio: '))\n",
        "asistencia = float(input('Digite su asistencia en porcentaje: '))\n",
        "if ingreso_men_fam < 1500 and promedio_est > 8.0 and asistencia >= 90:\n",
        "  print('\"Beca completa\"')\n",
        "elif ingreso_men_fam < 2500 and promedio_est > 7.0 and asistencia >= 85:\n",
        "  print('\"Media beca\"')\n",
        "else:\n",
        "  print('\"No elegible para beca\"')"
      ],
      "metadata": {
        "colab": {
          "base_uri": "https://localhost:8080/"
        },
        "id": "CpJJPTU2RoLK",
        "outputId": "76eec025-bd0f-4710-bad3-06793ff48dc8"
      },
      "execution_count": 27,
      "outputs": [
        {
          "output_type": "stream",
          "name": "stdout",
          "text": [
            "Digite su ingreso familiar mensual: 1400\n",
            "Digite su promedio: 8.6\n",
            "Digite su asistencia en porcentaje: 91\n",
            "\"Beca completa\"\n"
          ]
        }
      ]
    },
    {
      "cell_type": "markdown",
      "source": [
        "**9**.Un sistema de transporte cobra según la edad del pasajero y la distancia recorrida:\n",
        "\n",
        "- Menores de 6 años: Viajan gratis.\n",
        "- De 6 a 18 años:\n",
        "  - Hasta 20 km: 1.50\n",
        "  - Más de 20 km: 2.50\n",
        "- Mayores de 18:\n",
        "  - Hasta 20 km: 2.50\n",
        "  - Más de 20 km: 4.00\n",
        "\n",
        "Crea un programa que reciba la edad y distancia, y muestre el valor a pagar."
      ],
      "metadata": {
        "id": "boW2RVVAWCW9"
      }
    },
    {
      "cell_type": "code",
      "source": [
        "edad = float(input('Ingresa la edad: '))\n",
        "distancia = float(input('Distancia del recorrido en km: '))\n",
        "if edad < 6:\n",
        "  print('Viajan gratis.')\n",
        "elif edad >= 6 and edad <= 18:\n",
        "  if distancia <= 20:\n",
        "    print('Pagan $1.50')\n",
        "  else:\n",
        "    print('Pagan $2.50')\n",
        "else:\n",
        "  if distancia <= 20:\n",
        "    print('Pagan $2.50')\n",
        "  else:\n",
        "    print('Pagan $4.00')"
      ],
      "metadata": {
        "colab": {
          "base_uri": "https://localhost:8080/"
        },
        "id": "qZER48r-V7ei",
        "outputId": "84bf1980-a879-4760-d036-c786cb6aecf7"
      },
      "execution_count": 30,
      "outputs": [
        {
          "output_type": "stream",
          "name": "stdout",
          "text": [
            "Ingresa la edad: 19\n",
            "Distancia del recorrido en km: 23\n",
            "Pagan $4.00\n"
          ]
        }
      ]
    },
    {
      "cell_type": "markdown",
      "source": [
        "**10**.Una empresa evalúa su trimestre con base en:\n",
        "\n",
        "- Ingresos totales\n",
        "- Gastos totales\n",
        "- Número de nuevos clientes\n",
        "\n",
        "Clasificación:\n",
        "\n",
        "- Si ingresos - gastos > 10,000 y más de 50 nuevos clientes → \"Trimestre Excelente\"\n",
        "- Si ingresos - gastos > 5,000 y al menos 20 clientes → \"Trimestre Bueno\"\n",
        "- Si ingresos - gastos > 0 → \"Trimestre Regular\"\n",
        "- Si ingresos - gastos ≤ 0 → \"Trimestre Deficitario\""
      ],
      "metadata": {
        "id": "lAZ7fTefY1_y"
      }
    },
    {
      "cell_type": "code",
      "source": [
        "ingresoss = float(input('Digite sus ingresos totales: '))\n",
        "gastoss = float(input('Digite sus gastos totales: '))\n",
        "clientess = int(input('Digite la cantidad de nuevos clientes: '))\n",
        "if ingresoss - gastoss > 10000 and clientess > 50:\n",
        "  print('\"Trimestre Excelente\"')\n",
        "elif ingresoss - gastoss > 5000 and clientess == 20:\n",
        "  print('\"Trimestre Bueno\"')\n",
        "elif ingresoss - gastoss > 0:\n",
        "  print('\"Trimestre Regular\"')\n",
        "else:\n",
        "  print('\"Trimestre Deficitario\"')"
      ],
      "metadata": {
        "colab": {
          "base_uri": "https://localhost:8080/"
        },
        "id": "AwfQR3LtYQzX",
        "outputId": "bccb340d-739a-4abe-e037-7494ff86f1f7"
      },
      "execution_count": 32,
      "outputs": [
        {
          "output_type": "stream",
          "name": "stdout",
          "text": [
            "Digite sus ingresos totales: 12000\n",
            "Digite sus gastos totales: 3000\n",
            "Digite la cantidad de nuevos clientes: 45\n",
            "\"Trimestre Regular\"\n"
          ]
        }
      ]
    },
    {
      "cell_type": "code",
      "source": [],
      "metadata": {
        "id": "df5SmiwFaPkb"
      },
      "execution_count": null,
      "outputs": []
    }
  ]
}